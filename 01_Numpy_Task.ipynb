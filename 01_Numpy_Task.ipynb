{
  "nbformat": 4,
  "nbformat_minor": 0,
  "metadata": {
    "colab": {
      "provenance": []
    },
    "kernelspec": {
      "name": "python3",
      "display_name": "Python 3"
    },
    "language_info": {
      "name": "python"
    }
  },
  "cells": [
    {
      "cell_type": "markdown",
      "source": [
        "# NumPy Practice Notebook\n",
        "\n",
        "This notebook contains a series of practice problems to help you understand and apply core concepts in NumPy.\n",
        "\n",
        "---\n",
        "\n",
        "## 🧩 1. Array Creation\n",
        "**Question:** Create the following arrays using NumPy:\n",
        "1. A 1D array with numbers from 0 to 9\n",
        "2. A 2D array of shape (3, 3) filled with zeros\n",
        "3. A 2D array of shape (2, 4) filled with ones\n",
        "4. A 3x3 identity matrix\n",
        "\n",
        "\n",
        "---\n"
      ],
      "metadata": {
        "id": "DIl4swbP_Iux"
      }
    },
    {
      "cell_type": "code",
      "source": [
        "import numpy as np\n",
        "arr1 = np.arange(10)\n",
        "arr2 = np.zeros((3,3))\n",
        "arr3 = np.ones((2,4))\n",
        "arr4 = np.eye(3)"
      ],
      "metadata": {
        "id": "Z2WD9-cU_6y8"
      },
      "execution_count": 2,
      "outputs": []
    },
    {
      "cell_type": "code",
      "source": [
        "print(arr1)\n",
        "print(arr2)\n",
        "print(arr3)\n",
        "print(arr4)"
      ],
      "metadata": {
        "colab": {
          "base_uri": "https://localhost:8080/"
        },
        "id": "IpxFrFdkjPDU",
        "outputId": "b4437549-bc5e-400b-8d63-badf7ab812fd"
      },
      "execution_count": 2,
      "outputs": [
        {
          "output_type": "stream",
          "name": "stdout",
          "text": [
            "[0 1 2 3 4 5 6 7 8 9]\n",
            "[[0. 0. 0.]\n",
            " [0. 0. 0.]\n",
            " [0. 0. 0.]]\n",
            "[[1. 1. 1. 1.]\n",
            " [1. 1. 1. 1.]]\n",
            "[[1. 0. 0.]\n",
            " [0. 1. 0.]\n",
            " [0. 0. 1.]]\n"
          ]
        }
      ]
    },
    {
      "cell_type": "markdown",
      "source": [
        "\n",
        "## 🧪 2. Array Inspection\n",
        "**Question:** Given a NumPy array `arr`, print:\n",
        "1. Its shape\n",
        "2. Its data type\n",
        "3. The number of dimensions\n",
        "4. The total number of elements\n",
        "\n",
        "```python\n",
        "arr = np.array([[1, 2, 3], [4, 5, 6]])\n",
        "\n",
        "```\n",
        "\n",
        "---\n"
      ],
      "metadata": {
        "id": "UAFotM1N_h8t"
      }
    },
    {
      "cell_type": "code",
      "source": [
        "arr = np.array([[1, 2, 3], [4, 5, 6]])\n",
        "print(arr.shape)\n",
        "print(arr.dtype)\n",
        "print(arr.ndim)\n",
        "print(arr.size)"
      ],
      "metadata": {
        "colab": {
          "base_uri": "https://localhost:8080/"
        },
        "id": "pMArfKSb-7eA",
        "outputId": "e0f77403-84d7-49cc-852f-bb4f44205181"
      },
      "execution_count": 3,
      "outputs": [
        {
          "output_type": "stream",
          "name": "stdout",
          "text": [
            "(2, 3)\n",
            "int64\n",
            "2\n",
            "6\n"
          ]
        }
      ]
    },
    {
      "cell_type": "markdown",
      "source": [
        "\n",
        "## 🔍 3. Indexing and Slicing\n",
        "**Question:** Using the array below, do the following:\n",
        "1. Slice the first two rows\n",
        "2. Get the last column\n",
        "3. Extract the element in the second row and third column\n",
        "4. Reverse the rows\n",
        "\n",
        "```python\n",
        "arr = np.array([[10, 20, 30], [40, 50, 60], [70, 80, 90]])\n",
        "\n",
        "```\n"
      ],
      "metadata": {
        "id": "ssUHqVJR_lyu"
      }
    },
    {
      "cell_type": "code",
      "source": [
        "arr = np.array([[10, 20, 30], [40, 50, 60], [70, 80, 90]])\n",
        "print(arr[:2])\n",
        "print('--'*10)\n",
        "print(arr[:,-1])\n",
        "print('--'*10)\n",
        "print(arr[1,2])\n",
        "print('--'*10)\n",
        "print(arr[::-1])"
      ],
      "metadata": {
        "id": "EHK3lYVn_8vR",
        "colab": {
          "base_uri": "https://localhost:8080/"
        },
        "outputId": "f4e7ce9d-f980-4f73-96f8-0160b4b82c95"
      },
      "execution_count": 4,
      "outputs": [
        {
          "output_type": "stream",
          "name": "stdout",
          "text": [
            "[[10 20 30]\n",
            " [40 50 60]]\n",
            "--------------------\n",
            "[30 60 90]\n",
            "--------------------\n",
            "60\n",
            "--------------------\n",
            "[[70 80 90]\n",
            " [40 50 60]\n",
            " [10 20 30]]\n"
          ]
        }
      ]
    },
    {
      "cell_type": "markdown",
      "source": [
        "\n",
        "---\n",
        "\n",
        "## 🔁 4. More Slicing Practice\n",
        "**Question:**\n",
        "Given the array below, extract:\n",
        "1. All even numbers\n",
        "2. The second and third rows\n",
        "3. The last two columns\n",
        "4. A subarray containing the middle 2x2 block\n",
        "\n",
        "```python\n",
        "arr = np.array([[1, 2, 3, 4],\n",
        "                [5, 6, 7, 8],\n",
        "                [9, 10, 11, 12],\n",
        "                [13, 14, 15, 16]])\n",
        "\n",
        "```\n"
      ],
      "metadata": {
        "id": "DwYyM0b1_nA5"
      }
    },
    {
      "cell_type": "code",
      "source": [
        "arr = np.array([[1, 2, 3, 4],\n",
        "                [5, 6, 7, 8],\n",
        "                [9, 10, 11, 12],\n",
        "                [13, 14, 15, 16]])\n",
        "mask = arr % 2 == 0\n",
        "print(arr[mask])\n",
        "print('--'*10)\n",
        "print(arr[[1,2],])\n",
        "print('--'*10)\n",
        "print(arr[:,-2:])\n",
        "print('--'*10)\n",
        "print(arr[1:3,1:3])"
      ],
      "metadata": {
        "id": "Z9dvnQF2_9xI",
        "colab": {
          "base_uri": "https://localhost:8080/"
        },
        "outputId": "1434064a-adf9-42f3-cb5b-03fc2e359ba7"
      },
      "execution_count": 5,
      "outputs": [
        {
          "output_type": "stream",
          "name": "stdout",
          "text": [
            "[ 2  4  6  8 10 12 14 16]\n",
            "--------------------\n",
            "[[ 5  6  7  8]\n",
            " [ 9 10 11 12]]\n",
            "--------------------\n",
            "[[ 3  4]\n",
            " [ 7  8]\n",
            " [11 12]\n",
            " [15 16]]\n",
            "--------------------\n",
            "[[ 6  7]\n",
            " [10 11]]\n"
          ]
        }
      ]
    },
    {
      "cell_type": "markdown",
      "source": [
        "\n",
        "---\n",
        "\n",
        "## ➕ 5. Arithmetic Operations\n",
        "**Question:** Perform the following using NumPy arrays:\n",
        "1. Add two arrays element-wise\n",
        "2. Multiply two arrays element-wise\n",
        "3. Raise all elements of an array to the power of 2\n",
        "\n",
        "```python\n",
        "arr1 = np.array([1, 2, 3])\n",
        "arr2 = np.array([4, 5, 6])\n",
        "\n",
        "```\n",
        "\n",
        "---\n"
      ],
      "metadata": {
        "id": "TYIR2o4w_qHm"
      }
    },
    {
      "cell_type": "code",
      "source": [
        "arr1 = np.array([1, 2, 3])\n",
        "arr2 = np.array([4, 5, 6])\n",
        "print(arr1 + arr2)\n",
        "print(arr1 * arr2)\n",
        "print(arr1 ** 2)"
      ],
      "metadata": {
        "id": "3pOaUm-y_--J",
        "colab": {
          "base_uri": "https://localhost:8080/"
        },
        "outputId": "3ae275f2-5e5c-4a95-a040-76cae8f51316"
      },
      "execution_count": 6,
      "outputs": [
        {
          "output_type": "stream",
          "name": "stdout",
          "text": [
            "[5 7 9]\n",
            "[ 4 10 18]\n",
            "[1 4 9]\n"
          ]
        }
      ]
    },
    {
      "cell_type": "markdown",
      "source": [
        "\n",
        "## 📏 6. Broadcasting\n",
        "**Question:** Use broadcasting to:\n",
        "1. Add a 1D array to each row of a 2D array\n",
        "2. Multiply each row of a 2D array by a 1D array\n",
        "3. Subtract a scalar from each element in an array\n",
        "4. Add a column vector to each column of a matrix\n",
        "\n",
        "```python\n",
        "A = np.array([[1, 2, 3],\n",
        "              [4, 5, 6]])\n",
        "\n",
        "B = np.array([10, 20, 30])\n",
        "C = np.array([[1], [2]])\n",
        "\n",
        "```\n"
      ],
      "metadata": {
        "id": "mfYIu2L9_rl6"
      }
    },
    {
      "cell_type": "code",
      "source": [
        "import numpy as np\n",
        "A = np.array([[1, 2, 3],\n",
        "              [4, 5, 6]])\n",
        "B = np.array([10, 20, 30])\n",
        "C = np.array([[1],\n",
        "              [2]])\n",
        "\n",
        "print(A + B)\n",
        "print(A * B)\n",
        "print(A - 2)\n",
        "print(A + C)"
      ],
      "metadata": {
        "id": "HLueW9R2__sQ",
        "colab": {
          "base_uri": "https://localhost:8080/"
        },
        "outputId": "f70e0ed5-aa0d-4dab-a7b0-2505b4a52623"
      },
      "execution_count": 7,
      "outputs": [
        {
          "output_type": "stream",
          "name": "stdout",
          "text": [
            "[[11 22 33]\n",
            " [14 25 36]]\n",
            "[[ 10  40  90]\n",
            " [ 40 100 180]]\n",
            "[[-1  0  1]\n",
            " [ 2  3  4]]\n",
            "[[2 3 4]\n",
            " [6 7 8]]\n"
          ]
        }
      ]
    },
    {
      "cell_type": "markdown",
      "source": [
        "\n",
        "---\n",
        "\n",
        "## 🔁 7. More Broadcasting Practice\n",
        "**Question:** Try these:\n",
        "1. Add a 1D array of shape (4,) to a 2D array of shape (3,4)\n",
        "2. Multiply a (3,1) column array to a (1,4) row array and observe the shape\n",
        "3. Add a scalar to the entire array\n",
        "\n",
        "```python\n",
        "A = np.arange(12).reshape(3, 4)\n",
        "B = np.array([100, 200, 300, 400])\n",
        "C = np.array([[2], [3], [4]])\n",
        "\n",
        "```\n"
      ],
      "metadata": {
        "id": "GwaQHqqM_szI"
      }
    },
    {
      "cell_type": "code",
      "source": [
        "A = np.arange(12).reshape(3, 4)\n",
        "B = np.array([100, 200, 300, 400])\n",
        "C = np.array([[2], [3], [4]])\n",
        "\n",
        "print(A + B)\n",
        "B = B.reshape((1,4))\n",
        "D = B * C\n",
        "print(D)\n",
        "print(D.shape)\n",
        "print(A + 10)"
      ],
      "metadata": {
        "id": "92PwMwBtAAwq",
        "colab": {
          "base_uri": "https://localhost:8080/"
        },
        "outputId": "1ccf363a-8afe-4089-d205-84754f271bb2"
      },
      "execution_count": 8,
      "outputs": [
        {
          "output_type": "stream",
          "name": "stdout",
          "text": [
            "[[100 201 302 403]\n",
            " [104 205 306 407]\n",
            " [108 209 310 411]]\n",
            "[[ 200  400  600  800]\n",
            " [ 300  600  900 1200]\n",
            " [ 400  800 1200 1600]]\n",
            "(3, 4)\n",
            "[[10 11 12 13]\n",
            " [14 15 16 17]\n",
            " [18 19 20 21]]\n"
          ]
        }
      ]
    },
    {
      "cell_type": "markdown",
      "source": [
        "\n",
        "---\n",
        "\n",
        "## 🔃 8. Reshaping and Flattening\n",
        "**Question:**\n",
        "1. Reshape a 1D array of 12 elements into a 3x4 matrix\n",
        "2. Flatten a 2D array into a 1D array\n",
        "\n",
        "```python\n",
        "arr = np.arange(12)\n",
        "\n",
        "```\n"
      ],
      "metadata": {
        "id": "s0-ElcHm_uLL"
      }
    },
    {
      "cell_type": "code",
      "source": [
        "arr = np.arange(12)\n",
        "arr = arr.reshape(3,4)\n",
        "print(\"Reshape to 2D\")\n",
        "print(arr)\n",
        "print(\"Flatten\")\n",
        "print(arr.reshape(12,))\n",
        "# or arr.flatten() --> take a copy of the array,\n",
        "# but arr.ravel() --> take view or refernce of the array,\n",
        "# i.e. any change in the ravelled array"
      ],
      "metadata": {
        "id": "6cuXtuHNABj7",
        "colab": {
          "base_uri": "https://localhost:8080/"
        },
        "outputId": "e08e7228-3cf7-4bfd-b1b3-3d35751a739f"
      },
      "execution_count": 2,
      "outputs": [
        {
          "output_type": "stream",
          "name": "stdout",
          "text": [
            "Reshape to 2D\n",
            "[[ 0  1  2  3]\n",
            " [ 4  5  6  7]\n",
            " [ 8  9 10 11]]\n",
            "Flatten\n",
            "[ 0  1  2  3  4  5  6  7  8  9 10 11]\n"
          ]
        }
      ]
    },
    {
      "cell_type": "markdown",
      "source": [
        "\n",
        "---\n",
        "\n",
        "## 🔗 9. Stacking and Splitting\n",
        "**Question:** Stack and split arrays:\n",
        "1. Stack two (2, 2) arrays vertically and horizontally\n",
        "2. reshape a (4, 4) array into array of shape (2, 8)\n",
        "\n",
        "\n",
        "---\n"
      ],
      "metadata": {
        "id": "wE_NIjfD_wYt"
      }
    },
    {
      "cell_type": "code",
      "source": [
        "a = np.array([[1,2],[4,5]])\n",
        "b = np.array([[3,6],[7,8]])\n",
        "\n",
        "# Stacking Vertically\n",
        "print(np.vstack((a,b)))\n",
        "\n",
        "# Stacking Horizontally\n",
        "print(np.hstack((a,b)))\n",
        "\n",
        "print('--'*10)\n",
        "\n",
        "c = np.array([[1,2,3,4],\n",
        "              [5,6,7,8],\n",
        "              [9,10,11,12],\n",
        "              [13,14,15,16]])\n",
        "print(c.reshape((2,8)))"
      ],
      "metadata": {
        "colab": {
          "base_uri": "https://localhost:8080/"
        },
        "id": "u1Dac82MDT-f",
        "outputId": "7884586b-bb6b-4632-ed0f-0528de4246c8"
      },
      "execution_count": null,
      "outputs": [
        {
          "output_type": "stream",
          "name": "stdout",
          "text": [
            "[[1 2]\n",
            " [4 5]\n",
            " [3 6]\n",
            " [7 8]]\n",
            "[[1 2 3 6]\n",
            " [4 5 7 8]]\n",
            "--------------------\n",
            "[[ 1  2  3  4  5  6  7  8]\n",
            " [ 9 10 11 12 13 14 15 16]]\n"
          ]
        }
      ]
    },
    {
      "cell_type": "markdown",
      "source": [
        "\n",
        "## 🧠 10. Boolean Masking\n",
        "**Question:**\n",
        "Given an array:\n",
        "1. Select all elements > 10\n",
        "2. Replace all even numbers with -1\n",
        "\n",
        "```python\n",
        "arr = np.array([[5, 10, 15], [20, 25, 30]])\n",
        "\n",
        "```\n"
      ],
      "metadata": {
        "id": "xEMoDhIO_xz1"
      }
    },
    {
      "cell_type": "code",
      "source": [
        "arr = np.array([[5, 10, 15], [20, 25, 30]])\n",
        "\n",
        "print(arr[arr > 10])\n",
        "print('--'*10)\n",
        "print(np.where(arr%2==0,-1,arr))"
      ],
      "metadata": {
        "id": "jejS1-qiADMy",
        "colab": {
          "base_uri": "https://localhost:8080/"
        },
        "outputId": "d190f03c-5f6f-43cc-91df-5165be9067c0"
      },
      "execution_count": null,
      "outputs": [
        {
          "output_type": "stream",
          "name": "stdout",
          "text": [
            "[15 20 25 30]\n",
            "--------------------\n",
            "[[ 5 -1 15]\n",
            " [-1 25 -1]]\n"
          ]
        }
      ]
    },
    {
      "cell_type": "markdown",
      "source": [
        "\n",
        "---\n",
        "\n",
        "## 🧮 11. Aggregation\n",
        "**Question:** Calculate:\n",
        "1. Sum of all elements\n",
        "2. Mean of each column\n",
        "3. Max value in each row\n",
        "4. Standard deviation of the array\n",
        "\n",
        "```python\n",
        "arr = np.array([[1, 2, 3], [4, 5, 6]])\n",
        "\n",
        "```\n"
      ],
      "metadata": {
        "id": "9AY2Y8HR_zSR"
      }
    },
    {
      "cell_type": "code",
      "source": [
        "arr = np.array([[1, 2, 3], [4, 5, 6]])\n",
        "print(f\"Sum of all elements: {arr.sum()}\")\n",
        "print(f\"Mean of each column: {arr.mean(axis=0)}\")\n",
        "print(f\"Max value in each row: {arr.max(axis=1)}\")\n",
        "print(f\"Standard Deviation of the array: {arr.std():.2f}\")"
      ],
      "metadata": {
        "id": "xlaIab8NAESs",
        "colab": {
          "base_uri": "https://localhost:8080/"
        },
        "outputId": "7324f4ac-f4bc-4a1f-e668-163f7bdb02c5"
      },
      "execution_count": 6,
      "outputs": [
        {
          "output_type": "stream",
          "name": "stdout",
          "text": [
            "Sum of all elements: 21\n",
            "Mean of each column: [2.5 3.5 4.5]\n",
            "Max value in each row: [3 6]\n",
            "Standard Deviation of the array: 1.71\n"
          ]
        }
      ]
    },
    {
      "cell_type": "markdown",
      "source": [
        "\n",
        "---\n",
        "\n",
        "## 🧲 12. Dot Product and Matrix Multiplication\n",
        "**Question:**\n",
        "1. Multiply two matrices using `np.dot`\n",
        "\n",
        "```python\n",
        "A = np.array([[1, 2],\n",
        "              [3, 4]])\n",
        "B = np.array([[5, 6],\n",
        "              [7, 8]])\n",
        "\n",
        "```\n"
      ],
      "metadata": {
        "id": "N4mqr1Gr_0Kt"
      }
    },
    {
      "cell_type": "code",
      "source": [
        "A = np.array([[1, 2],\n",
        "              [3, 4]])\n",
        "B = np.array([[5, 6],\n",
        "              [7, 8]])\n",
        "np.dot(A, B) # If both a and b are 2-D arrays, it is matrix multiplication,\n",
        "            # but using matmul or a @ b is preferred."
      ],
      "metadata": {
        "id": "gbWAzqoYAFR0",
        "colab": {
          "base_uri": "https://localhost:8080/"
        },
        "outputId": "9cff60a4-a7a5-4caf-d116-e13fa55f82eb"
      },
      "execution_count": 7,
      "outputs": [
        {
          "output_type": "execute_result",
          "data": {
            "text/plain": [
              "array([[19, 22],\n",
              "       [43, 50]])"
            ]
          },
          "metadata": {},
          "execution_count": 7
        }
      ]
    },
    {
      "cell_type": "markdown",
      "source": [
        "\n",
        "---\n",
        "\n",
        "## 🔢 13. Random Numbers\n",
        "**Question:**\n",
        "1. Generate a 2x3 array of random numbers between 0 and 1\n",
        "2. Generate 10 random integers between 50 and 100\n",
        "\n"
      ],
      "metadata": {
        "id": "W1UDOAdi_1ar"
      }
    },
    {
      "cell_type": "code",
      "source": [
        "arr_deci = np.random.rand(2,3)\n",
        "arr_int = np.random.randint(50,100, size=(10,))\n",
        "print(arr_deci)\n",
        "print('--'*10)\n",
        "print(arr_int)"
      ],
      "metadata": {
        "id": "jOVTvy_hAGcv",
        "colab": {
          "base_uri": "https://localhost:8080/"
        },
        "outputId": "3b26f99f-20ce-4b12-e265-4f0640e5f91c"
      },
      "execution_count": 8,
      "outputs": [
        {
          "output_type": "stream",
          "name": "stdout",
          "text": [
            "[[0.62035674 0.35756037 0.01754255]\n",
            " [0.79623129 0.79400092 0.3546731 ]]\n",
            "--------------------\n",
            "[91 72 75 64 53 71 57 72 58 54]\n"
          ]
        }
      ]
    },
    {
      "cell_type": "markdown",
      "source": [
        "\n",
        "---\n",
        "\n",
        "## 📐 14. Linear Algebra\n",
        "**Question:**\n",
        "1. Find the rank of a matrix\n",
        "2. Compute the inverse of a matrix\n",
        "3. Compute the determinant of a matrix\n",
        "\n",
        "\n",
        "\n",
        "---\n"
      ],
      "metadata": {
        "id": "O-rWgFCv_27-"
      }
    },
    {
      "cell_type": "code",
      "source": [
        "arr = np.arange(1,10).reshape(3,3)\n",
        "arr"
      ],
      "metadata": {
        "id": "rcW7oVrGAGwI",
        "colab": {
          "base_uri": "https://localhost:8080/"
        },
        "outputId": "16435b08-c3fa-4b76-f1a0-629c8c63a779"
      },
      "execution_count": 3,
      "outputs": [
        {
          "output_type": "execute_result",
          "data": {
            "text/plain": [
              "array([[1, 2, 3],\n",
              "       [4, 5, 6],\n",
              "       [7, 8, 9]])"
            ]
          },
          "metadata": {},
          "execution_count": 3
        }
      ]
    },
    {
      "cell_type": "code",
      "source": [
        "np.linalg.matrix_rank(arr)"
      ],
      "metadata": {
        "colab": {
          "base_uri": "https://localhost:8080/"
        },
        "id": "AosOo1j20nLe",
        "outputId": "b4fe4117-85b9-42f0-9866-2feec9ab9fd7"
      },
      "execution_count": 4,
      "outputs": [
        {
          "output_type": "execute_result",
          "data": {
            "text/plain": [
              "np.int64(2)"
            ]
          },
          "metadata": {},
          "execution_count": 4
        }
      ]
    },
    {
      "cell_type": "code",
      "source": [
        "arr = np.array([[1,2,3],\n",
        "               [7,8,9],\n",
        "               [15,19,17]])"
      ],
      "metadata": {
        "id": "bIOX0oqZbKis"
      },
      "execution_count": 7,
      "outputs": []
    },
    {
      "cell_type": "code",
      "source": [
        "np.linalg.inv(arr)"
      ],
      "metadata": {
        "colab": {
          "base_uri": "https://localhost:8080/"
        },
        "id": "xuDm1KUra5Pw",
        "outputId": "7462aa76-694d-47db-a1dc-409927e7bcfd"
      },
      "execution_count": 8,
      "outputs": [
        {
          "output_type": "execute_result",
          "data": {
            "text/plain": [
              "array([[-0.97222222,  0.63888889, -0.16666667],\n",
              "       [ 0.44444444, -0.77777778,  0.33333333],\n",
              "       [ 0.36111111,  0.30555556, -0.16666667]])"
            ]
          },
          "metadata": {},
          "execution_count": 8
        }
      ]
    },
    {
      "cell_type": "code",
      "source": [
        "np.linalg.det(arr)"
      ],
      "metadata": {
        "colab": {
          "base_uri": "https://localhost:8080/"
        },
        "id": "1FzU-k_Lbd2j",
        "outputId": "ef50117b-d21c-45ec-eee8-9f6c8d738417"
      },
      "execution_count": 9,
      "outputs": [
        {
          "output_type": "execute_result",
          "data": {
            "text/plain": [
              "np.float64(36.000000000000014)"
            ]
          },
          "metadata": {},
          "execution_count": 9
        }
      ]
    },
    {
      "cell_type": "markdown",
      "source": [
        "\n",
        "## ⭐ Bonus Challenge\n",
        "**Question:**\n",
        "Given a 2D array of shape (6, 6), extract all 3x3 submatrices (using slicing) and store them in a list.\n",
        "\n"
      ],
      "metadata": {
        "id": "lQb606tk_5L5"
      }
    },
    {
      "cell_type": "code",
      "source": [
        "a_2d = np.random.randint(100, size=(6,6))\n",
        "print(\"Original 2D Array:\")\n",
        "print(a_2d)\n",
        "#-------------------------#\n",
        "submatrices = []\n",
        "submatrices.append([a_2d[i:i+3, j:j+3] for i in range(4) for j in range(4)])\n",
        "print(submatrices)\n"
      ],
      "metadata": {
        "id": "dNR9aI5m9Vrr",
        "colab": {
          "base_uri": "https://localhost:8080/"
        },
        "outputId": "4c0fc89e-abe7-4a92-80b1-5bc3b9173686"
      },
      "execution_count": 19,
      "outputs": [
        {
          "output_type": "stream",
          "name": "stdout",
          "text": [
            "Original 2D Array:\n",
            "[[79 22 61 20 96 90]\n",
            " [25 36 51 92 45 10]\n",
            " [51 47 58 92 44 36]\n",
            " [20 80 99 18 16 21]\n",
            " [58 14 92 88 20 43]\n",
            " [90 91 10 56 36 36]]\n",
            "[[array([[79, 22, 61],\n",
            "       [25, 36, 51],\n",
            "       [51, 47, 58]]), array([[22, 61, 20],\n",
            "       [36, 51, 92],\n",
            "       [47, 58, 92]]), array([[61, 20, 96],\n",
            "       [51, 92, 45],\n",
            "       [58, 92, 44]]), array([[20, 96, 90],\n",
            "       [92, 45, 10],\n",
            "       [92, 44, 36]]), array([[25, 36, 51],\n",
            "       [51, 47, 58],\n",
            "       [20, 80, 99]]), array([[36, 51, 92],\n",
            "       [47, 58, 92],\n",
            "       [80, 99, 18]]), array([[51, 92, 45],\n",
            "       [58, 92, 44],\n",
            "       [99, 18, 16]]), array([[92, 45, 10],\n",
            "       [92, 44, 36],\n",
            "       [18, 16, 21]]), array([[51, 47, 58],\n",
            "       [20, 80, 99],\n",
            "       [58, 14, 92]]), array([[47, 58, 92],\n",
            "       [80, 99, 18],\n",
            "       [14, 92, 88]]), array([[58, 92, 44],\n",
            "       [99, 18, 16],\n",
            "       [92, 88, 20]]), array([[92, 44, 36],\n",
            "       [18, 16, 21],\n",
            "       [88, 20, 43]]), array([[20, 80, 99],\n",
            "       [58, 14, 92],\n",
            "       [90, 91, 10]]), array([[80, 99, 18],\n",
            "       [14, 92, 88],\n",
            "       [91, 10, 56]]), array([[99, 18, 16],\n",
            "       [92, 88, 20],\n",
            "       [10, 56, 36]]), array([[18, 16, 21],\n",
            "       [88, 20, 43],\n",
            "       [56, 36, 36]])]]\n"
          ]
        }
      ]
    },
    {
      "cell_type": "markdown",
      "source": [
        "\n",
        "---\n",
        "\n",
        "Happy coding! 🎯\n"
      ],
      "metadata": {
        "id": "-qOCxwQnAJn2"
      }
    },
    {
      "cell_type": "code",
      "source": [],
      "metadata": {
        "id": "MBHa4EcJAJxF"
      },
      "execution_count": null,
      "outputs": []
    }
  ]
}